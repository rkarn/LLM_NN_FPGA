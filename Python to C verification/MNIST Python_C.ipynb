{
 "cells": [
  {
   "cell_type": "code",
   "execution_count": 1,
   "id": "3539abdf",
   "metadata": {},
   "outputs": [
    {
     "name": "stderr",
     "output_type": "stream",
     "text": [
      "2024-09-14 09:33:35.571144: I tensorflow/tsl/cuda/cudart_stub.cc:28] Could not find cuda drivers on your machine, GPU will not be used.\n",
      "2024-09-14 09:33:35.613376: I tensorflow/tsl/cuda/cudart_stub.cc:28] Could not find cuda drivers on your machine, GPU will not be used.\n",
      "2024-09-14 09:33:35.613794: I tensorflow/core/platform/cpu_feature_guard.cc:182] This TensorFlow binary is optimized to use available CPU instructions in performance-critical operations.\n",
      "To enable the following instructions: AVX2 FMA, in other operations, rebuild TensorFlow with the appropriate compiler flags.\n",
      "2024-09-14 09:33:36.402290: W tensorflow/compiler/tf2tensorrt/utils/py_utils.cc:38] TF-TRT Warning: Could not find TensorRT\n"
     ]
    },
    {
     "name": "stdout",
     "output_type": "stream",
     "text": [
      "Epoch 1/10\n",
      "300/300 [==============================] - 8s 25ms/step - loss: 0.4123 - accuracy: 0.8924 - val_loss: 0.1710 - val_accuracy: 0.9533\n",
      "Epoch 2/10\n",
      "300/300 [==============================] - 7s 23ms/step - loss: 0.1339 - accuracy: 0.9623 - val_loss: 0.0975 - val_accuracy: 0.9729\n",
      "Epoch 3/10\n",
      "300/300 [==============================] - 7s 23ms/step - loss: 0.0912 - accuracy: 0.9748 - val_loss: 0.0788 - val_accuracy: 0.9770\n",
      "Epoch 4/10\n",
      "300/300 [==============================] - 7s 23ms/step - loss: 0.0726 - accuracy: 0.9799 - val_loss: 0.0675 - val_accuracy: 0.9793\n",
      "Epoch 5/10\n",
      "300/300 [==============================] - 7s 23ms/step - loss: 0.0623 - accuracy: 0.9825 - val_loss: 0.0599 - val_accuracy: 0.9816\n",
      "Epoch 6/10\n",
      "300/300 [==============================] - 7s 23ms/step - loss: 0.0549 - accuracy: 0.9842 - val_loss: 0.0586 - val_accuracy: 0.9807\n",
      "Epoch 7/10\n",
      "300/300 [==============================] - 7s 23ms/step - loss: 0.0501 - accuracy: 0.9856 - val_loss: 0.0558 - val_accuracy: 0.9822\n",
      "Epoch 8/10\n",
      "300/300 [==============================] - 7s 23ms/step - loss: 0.0460 - accuracy: 0.9867 - val_loss: 0.0580 - val_accuracy: 0.9818\n",
      "Epoch 9/10\n",
      "300/300 [==============================] - 7s 23ms/step - loss: 0.0426 - accuracy: 0.9881 - val_loss: 0.0565 - val_accuracy: 0.9814\n",
      "Epoch 10/10\n",
      "300/300 [==============================] - 7s 23ms/step - loss: 0.0395 - accuracy: 0.9888 - val_loss: 0.0544 - val_accuracy: 0.9823\n",
      "Test accuracy: 98.23%\n"
     ]
    }
   ],
   "source": [
    "import tensorflow as tf\n",
    "from tensorflow.keras.datasets import mnist\n",
    "from tensorflow.keras.models import Sequential\n",
    "from tensorflow.keras.layers import Dense, Conv2D, MaxPooling2D, Flatten\n",
    "from tensorflow.keras.utils import to_categorical\n",
    "\n",
    "# Load the MNIST dataset\n",
    "(x_train, y_train), (x_test, y_test) = mnist.load_data()\n",
    "\n",
    "# Preprocess the data\n",
    "x_train = x_train.reshape((x_train.shape[0], 28, 28, 1)).astype('float32') / 255\n",
    "x_test = x_test.reshape((x_test.shape[0], 28, 28, 1)).astype('float32') / 255\n",
    "y_train = to_categorical(y_train)\n",
    "Y_test = to_categorical(y_test)\n",
    "\n",
    "# Build the CNN model\n",
    "model = Sequential([\n",
    "    Conv2D(32, kernel_size=(3, 3), activation='relu', input_shape=(28, 28, 1)),\n",
    "    MaxPooling2D(pool_size=(2, 2)),\n",
    "    Flatten(),\n",
    "    Dense(10, activation='softmax')\n",
    "])\n",
    "\n",
    "# Compile the model\n",
    "model.compile(optimizer='adam', loss='categorical_crossentropy', metrics=['accuracy'])\n",
    "\n",
    "# Train the model\n",
    "model.fit(x_train, y_train, validation_data=(x_test, Y_test), epochs=10, batch_size=200, verbose=1)\n",
    "\n",
    "# Evaluate the model\n",
    "scores = model.evaluate(x_test, Y_test, verbose=0)\n",
    "print(f\"Test accuracy: {scores[1]*100:.2f}%\")\n"
   ]
  },
  {
   "cell_type": "code",
   "execution_count": 35,
   "id": "bd1f1891",
   "metadata": {},
   "outputs": [
    {
     "name": "stdout",
     "output_type": "stream",
     "text": [
      "Model: \"sequential\"\n",
      "_________________________________________________________________\n",
      " Layer (type)                Output Shape              Param #   \n",
      "=================================================================\n",
      " conv2d (Conv2D)             (None, 26, 26, 32)        320       \n",
      "                                                                 \n",
      " max_pooling2d (MaxPooling2D  (None, 13, 13, 32)       0         \n",
      " )                                                               \n",
      "                                                                 \n",
      " flatten (Flatten)           (None, 5408)              0         \n",
      "                                                                 \n",
      " dense (Dense)               (None, 10)                54090     \n",
      "                                                                 \n",
      "=================================================================\n",
      "Total params: 54,410\n",
      "Trainable params: 54,410\n",
      "Non-trainable params: 0\n",
      "_________________________________________________________________\n"
     ]
    }
   ],
   "source": [
    "model.summary()"
   ]
  },
  {
   "cell_type": "code",
   "execution_count": 36,
   "id": "a5ec72ad",
   "metadata": {},
   "outputs": [
    {
     "name": "stdout",
     "output_type": "stream",
     "text": [
      "(3, 3, 1, 32)\n",
      "(32,)\n",
      "(5408, 10)\n",
      "(10,)\n"
     ]
    }
   ],
   "source": [
    "for i in model.get_weights():\n",
    "    print(i.shape)"
   ]
  },
  {
   "cell_type": "code",
   "execution_count": 6,
   "id": "b88613de",
   "metadata": {},
   "outputs": [
    {
     "name": "stdout",
     "output_type": "stream",
     "text": [
      "(60000, 28, 28, 1) (60000, 10) (10000, 28, 28, 1) (10000,)\n"
     ]
    }
   ],
   "source": [
    "print(x_train.shape,y_train.shape,x_test.shape,y_test.shape)"
   ]
  },
  {
   "cell_type": "code",
   "execution_count": 4,
   "id": "bc387e7c",
   "metadata": {},
   "outputs": [
    {
     "name": "stdout",
     "output_type": "stream",
     "text": [
      "313/313 [==============================] - 1s 2ms/step\n",
      "Accuracy: 0.9823\n"
     ]
    }
   ],
   "source": [
    "import plotting\n",
    "import matplotlib.pyplot as plt\n",
    "import numpy as np\n",
    "from sklearn.metrics import accuracy_score\n",
    "y_keras = model.predict(x_test)\n",
    "print(\"Accuracy: {}\".format(accuracy_score(np.argmax(Y_test, axis=1), np.argmax(y_keras, axis=1))))"
   ]
  },
  {
   "cell_type": "code",
   "execution_count": 20,
   "id": "6cc439cd",
   "metadata": {},
   "outputs": [
    {
     "name": "stdout",
     "output_type": "stream",
     "text": [
      "(1000, 28, 28, 1) (1000,)\n"
     ]
    }
   ],
   "source": [
    "reduced_x_test = x_test[:1000]\n",
    "reduced_y_test=y_test[:1000]\n",
    "print(reduced_x_test.shape,reduced_y_test.shape)"
   ]
  },
  {
   "cell_type": "code",
   "execution_count": 22,
   "id": "1f9ee82f",
   "metadata": {},
   "outputs": [
    {
     "name": "stdout",
     "output_type": "stream",
     "text": [
      "Test dataset has been saved to 'test_dataset.c'\n"
     ]
    }
   ],
   "source": [
    "# Open the file for writing\n",
    "with open('MNIST_testdata/test_dataset.c', 'w') as f:\n",
    "    # Write the x_test array\n",
    "    f.write(\"// x_test array (1000, 28, 28, 1)\\n\")\n",
    "    f.write(\"float x_test[1000][28][28][1] = {\\n\")\n",
    "    for i in range(1000):\n",
    "        f.write(\"    {\\n\")\n",
    "        for j in range(28):\n",
    "            f.write(\"        {\")\n",
    "            for k in range(28):\n",
    "                f.write(\"{\" + f\"{x_test[i][j][k][0]:.6f}\" + \"}, \")\n",
    "            f.write(\"},\\n\")\n",
    "        f.write(\"    },\\n\")\n",
    "    f.write(\"};\\n\\n\")\n",
    "\n",
    "    # Write the y_test array\n",
    "    f.write(\"// y_test array (1000,)\\n\")\n",
    "    f.write(\"int y_test[1000] = {\")\n",
    "    for i in range(1000):\n",
    "        if i % 20 == 0:\n",
    "            f.write(\"\\n    \")\n",
    "        f.write(f\"{y_test[i]}, \")\n",
    "    f.write(\"\\n};\\n\")\n",
    "\n",
    "print(\"Test dataset has been saved to 'test_dataset.c'\")\n"
   ]
  },
  {
   "cell_type": "code",
   "execution_count": 9,
   "id": "6ea7a952",
   "metadata": {},
   "outputs": [
    {
     "name": "stdout",
     "output_type": "stream",
     "text": [
      "Weights and biases have been saved to weights.cpp\n"
     ]
    }
   ],
   "source": [
    "# Function to format numpy array as C++ array\n",
    "def format_array(arr, indent=0):\n",
    "    if arr.ndim == 1:\n",
    "        return \"{\" + \", \".join(f\"{x:.8f}f\" for x in arr) + \"}\"\n",
    "    else:\n",
    "        return \"{\\n\" + \",\\n\".join(\" \" * (indent + 2) + format_array(sub_arr, indent + 2) for sub_arr in arr) + \"\\n\" + \" \" * indent + \"}\"\n",
    "\n",
    "# Generate weights.cpp file\n",
    "with open(\"MNIST_testdata/weights.cpp\", \"w\") as f:\n",
    "    f.write(\"#include <vector>\\n\\n\")\n",
    "\n",
    "    # Conv2D layer weights and biases\n",
    "    conv_weights = model.layers[0].get_weights()[0]\n",
    "    conv_biases = model.layers[0].get_weights()[1]\n",
    "\n",
    "    f.write(f\"const std::vector<std::vector<std::vector<std::vector<float>>>> conv1_weights = {format_array(conv_weights)};\\n\\n\")\n",
    "    f.write(f\"const std::vector<float> conv1_bias = {format_array(conv_biases)};\\n\\n\")\n",
    "\n",
    "    # Dense layer weights and biases\n",
    "    dense_weights = model.layers[3].get_weights()[0]\n",
    "    dense_biases = model.layers[3].get_weights()[1]\n",
    "\n",
    "    f.write(f\"const std::vector<std::vector<float>> dense_weights = {format_array(dense_weights)};\\n\\n\")\n",
    "    f.write(f\"const std::vector<float> dense_bias = {format_array(dense_biases)};\\n\")\n",
    "\n",
    "print(\"Weights and biases have been saved to weights.cpp\")\n"
   ]
  },
  {
   "cell_type": "code",
   "execution_count": 31,
   "id": "2448aadc",
   "metadata": {},
   "outputs": [],
   "source": [
    "!g++ -std=c++11 MNIST_testdata/test.cpp -o MNIST_testdata/test_nn"
   ]
  },
  {
   "cell_type": "code",
   "execution_count": 34,
   "id": "54c7b311",
   "metadata": {},
   "outputs": [
    {
     "name": "stdout",
     "output_type": "stream",
     "text": [
      "Accuracy:   95.6%\n"
     ]
    }
   ],
   "source": [
    "!./MNIST_testdata/test_nn"
   ]
  },
  {
   "cell_type": "code",
   "execution_count": null,
   "id": "896ffd3e",
   "metadata": {},
   "outputs": [],
   "source": []
  }
 ],
 "metadata": {
  "kernelspec": {
   "display_name": "Python 3 (ipykernel)",
   "language": "python",
   "name": "python3"
  },
  "language_info": {
   "codemirror_mode": {
    "name": "ipython",
    "version": 3
   },
   "file_extension": ".py",
   "mimetype": "text/x-python",
   "name": "python",
   "nbconvert_exporter": "python",
   "pygments_lexer": "ipython3",
   "version": "3.11.2"
  }
 },
 "nbformat": 4,
 "nbformat_minor": 5
}
